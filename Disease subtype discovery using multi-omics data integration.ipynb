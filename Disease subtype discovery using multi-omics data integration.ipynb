{
 "cells": [
  {
   "cell_type": "markdown",
   "id": "6fc3b1a1",
   "metadata": {},
   "source": [
    "First of all, we need to install all the packages needed for this project"
   ]
  },
  {
   "cell_type": "code",
   "execution_count": 1,
   "id": "f533dae0",
   "metadata": {},
   "outputs": [
    {
     "name": "stderr",
     "output_type": "stream",
     "text": [
      "Caricamento del pacchetto richiesto: MultiAssayExperiment\n",
      "\n",
      "Caricamento del pacchetto richiesto: SummarizedExperiment\n",
      "\n",
      "Caricamento del pacchetto richiesto: MatrixGenerics\n",
      "\n",
      "Caricamento del pacchetto richiesto: matrixStats\n",
      "\n",
      "\n",
      "Caricamento pacchetto: ‘MatrixGenerics’\n",
      "\n",
      "\n",
      "I seguenti oggetti sono mascherati da ‘package:matrixStats’:\n",
      "\n",
      "    colAlls, colAnyNAs, colAnys, colAvgsPerRowSet, colCollapse,\n",
      "    colCounts, colCummaxs, colCummins, colCumprods, colCumsums,\n",
      "    colDiffs, colIQRDiffs, colIQRs, colLogSumExps, colMadDiffs,\n",
      "    colMads, colMaxs, colMeans2, colMedians, colMins, colOrderStats,\n",
      "    colProds, colQuantiles, colRanges, colRanks, colSdDiffs, colSds,\n",
      "    colSums2, colTabulates, colVarDiffs, colVars, colWeightedMads,\n",
      "    colWeightedMeans, colWeightedMedians, colWeightedSds,\n",
      "    colWeightedVars, rowAlls, rowAnyNAs, rowAnys, rowAvgsPerColSet,\n",
      "    rowCollapse, rowCounts, rowCummaxs, rowCummins, rowCumprods,\n",
      "    rowCumsums, rowDiffs, rowIQRDiffs, rowIQRs, rowLogSumExps,\n",
      "    rowMadDiffs, rowMads, rowMaxs, rowMeans2, rowMedians, rowMins,\n",
      "    rowOrderStats, rowProds, rowQuantiles, rowRanges, rowRanks,\n",
      "    rowSdDiffs, rowSds, rowSums2, rowTabulates, rowVarDiffs, rowVars,\n",
      "    rowWeightedMads, rowWeightedMeans, rowWeightedMedians,\n",
      "    rowWeightedSds, rowWeightedVars\n",
      "\n",
      "\n",
      "Caricamento del pacchetto richiesto: GenomicRanges\n",
      "\n",
      "Caricamento del pacchetto richiesto: stats4\n",
      "\n",
      "Caricamento del pacchetto richiesto: BiocGenerics\n",
      "\n",
      "\n",
      "Caricamento pacchetto: ‘BiocGenerics’\n",
      "\n",
      "\n",
      "I seguenti oggetti sono mascherati da ‘package:stats’:\n",
      "\n",
      "    IQR, mad, sd, var, xtabs\n",
      "\n",
      "\n",
      "I seguenti oggetti sono mascherati da ‘package:base’:\n",
      "\n",
      "    anyDuplicated, aperm, append, as.data.frame, basename, cbind,\n",
      "    colnames, dirname, do.call, duplicated, eval, evalq, Filter, Find,\n",
      "    get, grep, grepl, intersect, is.unsorted, lapply, Map, mapply,\n",
      "    match, mget, order, paste, pmax, pmax.int, pmin, pmin.int,\n",
      "    Position, rank, rbind, Reduce, rownames, sapply, setdiff, sort,\n",
      "    table, tapply, union, unique, unsplit, which.max, which.min\n",
      "\n",
      "\n",
      "Caricamento del pacchetto richiesto: S4Vectors\n",
      "\n",
      "\n",
      "Caricamento pacchetto: ‘S4Vectors’\n",
      "\n",
      "\n",
      "I seguenti oggetti sono mascherati da ‘package:base’:\n",
      "\n",
      "    expand.grid, I, unname\n",
      "\n",
      "\n",
      "Caricamento del pacchetto richiesto: IRanges\n",
      "\n",
      "Caricamento del pacchetto richiesto: GenomeInfoDb\n",
      "\n",
      "Caricamento del pacchetto richiesto: Biobase\n",
      "\n",
      "Welcome to Bioconductor\n",
      "\n",
      "    Vignettes contain introductory material; view with\n",
      "    'browseVignettes()'. To cite Bioconductor, see\n",
      "    'citation(\"Biobase\")', and for packages 'citation(\"pkgname\")'.\n",
      "\n",
      "\n",
      "\n",
      "Caricamento pacchetto: ‘Biobase’\n",
      "\n",
      "\n",
      "Il seguente oggetto è mascherato da ‘package:MatrixGenerics’:\n",
      "\n",
      "    rowMedians\n",
      "\n",
      "\n",
      "I seguenti oggetti sono mascherati da ‘package:matrixStats’:\n",
      "\n",
      "    anyMissing, rowMedians\n",
      "\n",
      "\n",
      "\n",
      "Caricamento pacchetto: ‘TCGAutils’\n",
      "\n",
      "\n",
      "Il seguente oggetto è mascherato da ‘package:MultiAssayExperiment’:\n",
      "\n",
      "    splitAssays\n",
      "\n",
      "\n",
      "Caricamento del pacchetto richiesto: ggplot2\n",
      "\n",
      "Caricamento del pacchetto richiesto: lattice\n",
      "\n"
     ]
    }
   ],
   "source": [
    "library(\"curatedTCGAData\");\n",
    "library(\"TCGAbiolinks\");\n",
    "library(\"TCGAutils\");\n",
    "library(\"SNFtool\");\n",
    "library(\"caret\");\n",
    "library(\"cluster\"); #pam\n",
    "library(\"mclustcomp\");"
   ]
  },
  {
   "cell_type": "markdown",
   "id": "e598a550",
   "metadata": {},
   "source": [
    "Download the **Prostate adenocarcinoma** dataset, considering three different omics data sources (**mRNA**, **miRNA** and **protein expression** data). The _TCGA_ code for the dataset is “PRAD”;\n",
    "As above-mentioned, we will download **multi-omics** data from patients having prostate cancer. A multi-omics dataset is a dataset comprising multiple different biological data sources (i.e. messenger-RNA, micro-RNA, proteins, genomic mutations, etc), where each source represents a different data modality capturing the state of a specific biological layer in the cells. The underlying idea of using multiple data sources is that a biological system (normal or pathological) is the result of the interplay of multiple different molecules, thus considering many biological data sources at the same time gives us a more accurate picture of underlying processes.\n",
    "\n",
    "The advent of the so-called “high-throughput technologies” enables the evaluation of:\n",
    "\n",
    "- Genome: the complete genetic information of an organism (i.e. the sequence of nucleotides in the DNA)\n",
    "- Transcriptome: set of all RNA transcripts (used also for all mRNA)\n",
    "- Proteome: entire set of proteins etc.\n",
    "\n",
    "in cell, tissue, or organism at a certain time. We can see that the suffix -ome it is used with the meaning of whole/entire. All omics data are high-dimensional and characterized by “small-n large-p” (i.e. few samples and a large number of features), which easily leads to the “curse of dimensionality” in machine learning applications.\n",
    "\n",
    "We download a prostate cancer multi-omics dataset from The Cancer Genome Atlas (TCGA) program. TCGA is a genomics program that collected more than 11,000 cases across 33 tumor types, comprising multiple biological data sources (mRNA expression, miRNA expression, copy number values, DNA methylation, protein expression). In particular, we exploit the package “curatedTCGAData” to download the following data views:\n",
    "\n",
    "- mRNA data\n",
    "- miRNA data\n",
    "- protein data\n",
    "\n",
    "The complete list of data types is available in the help page of the function ?curatedTCGAData"
   ]
  },
  {
   "cell_type": "code",
   "execution_count": 2,
   "id": "3c7f6ef9",
   "metadata": {},
   "outputs": [
    {
     "name": "stderr",
     "output_type": "stream",
     "text": [
      "snapshotDate(): 2022-10-31\n",
      "\n",
      "Working on: PRAD_miRNASeqGene-20160128\n",
      "\n",
      "see ?curatedTCGAData and browseVignettes('curatedTCGAData') for documentation\n",
      "\n",
      "loading from cache\n",
      "\n",
      "Working on: PRAD_RNASeq2Gene-20160128\n",
      "\n",
      "see ?curatedTCGAData and browseVignettes('curatedTCGAData') for documentation\n",
      "\n",
      "loading from cache\n",
      "\n",
      "Working on: PRAD_RPPAArray-20160128\n",
      "\n",
      "see ?curatedTCGAData and browseVignettes('curatedTCGAData') for documentation\n",
      "\n",
      "loading from cache\n",
      "\n",
      "Working on: PRAD_colData-20160128\n",
      "\n",
      "see ?curatedTCGAData and browseVignettes('curatedTCGAData') for documentation\n",
      "\n",
      "loading from cache\n",
      "\n",
      "Working on: PRAD_metadata-20160128\n",
      "\n",
      "see ?curatedTCGAData and browseVignettes('curatedTCGAData') for documentation\n",
      "\n",
      "loading from cache\n",
      "\n",
      "Working on: PRAD_sampleMap-20160128\n",
      "\n",
      "see ?curatedTCGAData and browseVignettes('curatedTCGAData') for documentation\n",
      "\n",
      "loading from cache\n",
      "\n",
      "harmonizing input:\n",
      "  removing 5189 sampleMap rows not in names(experiments)\n",
      "\n"
     ]
    },
    {
     "data": {
      "text/plain": [
       "A MultiAssayExperiment object of 3 listed\n",
       " experiments with user-defined names and respective classes.\n",
       " Containing an ExperimentList class object of length 3:\n",
       " [1] PRAD_miRNASeqGene-20160128: SummarizedExperiment with 1046 rows and 547 columns\n",
       " [2] PRAD_RNASeq2Gene-20160128: SummarizedExperiment with 20501 rows and 550 columns\n",
       " [3] PRAD_RPPAArray-20160128: SummarizedExperiment with 195 rows and 352 columns\n",
       "Functionality:\n",
       " experiments() - obtain the ExperimentList instance\n",
       " colData() - the primary/phenotype DataFrame\n",
       " sampleMap() - the sample coordination DataFrame\n",
       " `$`, `[`, `[[` - extract colData columns, subset, or experiment\n",
       " *Format() - convert into a long or wide DataFrame\n",
       " assays() - convert ExperimentList to a SimpleList of matrices\n",
       " exportClass() - save data to flat files"
      ]
     },
     "metadata": {},
     "output_type": "display_data"
    }
   ],
   "source": [
    "# Download prostate cancer multi-omics dataset\n",
    "# Note that RPPA stands for Reverse-phase protein array and it is \n",
    "# the technology used to obtain proteomic data.\n",
    "# Use ?curatedTCGAData to access the help page of the function and see\n",
    "# the table with all the available data types (not all types are available for\n",
    "# each cancer).\n",
    "assays <- c(\"miRNASeqGene\", \"RNASeq2Gene\", \"RPPAArray\");\n",
    "mo <- curatedTCGAData(diseaseCode = \"PRAD\", \n",
    "                        assays = assays, \n",
    "                        version = \"2.0.1\", dry.run = FALSE);\n",
    "mo"
   ]
  },
  {
   "cell_type": "code",
   "execution_count": 3,
   "id": "2a41939e",
   "metadata": {},
   "outputs": [
    {
     "data": {
      "text/plain": [
       "DataFrame with 1449 rows and 3 columns\n",
       "                         assay      primary                colname\n",
       "                      <factor>  <character>            <character>\n",
       "1    PRAD_RNASeq2Gene-20160128 TCGA-2A-A8VL TCGA-2A-A8VL-01A-21R..\n",
       "2    PRAD_RNASeq2Gene-20160128 TCGA-2A-A8VO TCGA-2A-A8VO-01A-11R..\n",
       "3    PRAD_RNASeq2Gene-20160128 TCGA-2A-A8VT TCGA-2A-A8VT-01A-11R..\n",
       "4    PRAD_RNASeq2Gene-20160128 TCGA-2A-A8VV TCGA-2A-A8VV-01A-11R..\n",
       "5    PRAD_RNASeq2Gene-20160128 TCGA-2A-A8VX TCGA-2A-A8VX-01A-11R..\n",
       "...                        ...          ...                    ...\n",
       "1445   PRAD_RPPAArray-20160128 TCGA-ZG-A9LZ TCGA-ZG-A9LZ-01A-21-..\n",
       "1446   PRAD_RPPAArray-20160128 TCGA-ZG-A9M4 TCGA-ZG-A9M4-01A-21-..\n",
       "1447   PRAD_RPPAArray-20160128 TCGA-ZG-A9MC TCGA-ZG-A9MC-01A-21-..\n",
       "1448   PRAD_RPPAArray-20160128 TCGA-ZG-A9N3 TCGA-ZG-A9N3-01A-22-..\n",
       "1449   PRAD_RPPAArray-20160128 TCGA-ZG-A9NI TCGA-ZG-A9NI-01A-21-.."
      ]
     },
     "metadata": {},
     "output_type": "display_data"
    }
   ],
   "source": [
    "sampleMap(mo)"
   ]
  },
  {
   "cell_type": "code",
   "execution_count": 4,
   "id": "75080dd2",
   "metadata": {},
   "outputs": [
    {
     "data": {
      "text/plain": [
       "DataFrame with 1449 rows and 3 columns\n",
       "                         assay      primary                colname\n",
       "                      <factor>  <character>            <character>\n",
       "1    PRAD_RNASeq2Gene-20160128 TCGA-2A-A8VL TCGA-2A-A8VL-01A-21R..\n",
       "2    PRAD_RNASeq2Gene-20160128 TCGA-2A-A8VO TCGA-2A-A8VO-01A-11R..\n",
       "3    PRAD_RNASeq2Gene-20160128 TCGA-2A-A8VT TCGA-2A-A8VT-01A-11R..\n",
       "4    PRAD_RNASeq2Gene-20160128 TCGA-2A-A8VV TCGA-2A-A8VV-01A-11R..\n",
       "5    PRAD_RNASeq2Gene-20160128 TCGA-2A-A8VX TCGA-2A-A8VX-01A-11R..\n",
       "...                        ...          ...                    ...\n",
       "1445   PRAD_RPPAArray-20160128 TCGA-ZG-A9LZ TCGA-ZG-A9LZ-01A-21-..\n",
       "1446   PRAD_RPPAArray-20160128 TCGA-ZG-A9M4 TCGA-ZG-A9M4-01A-21-..\n",
       "1447   PRAD_RPPAArray-20160128 TCGA-ZG-A9MC TCGA-ZG-A9MC-01A-21-..\n",
       "1448   PRAD_RPPAArray-20160128 TCGA-ZG-A9N3 TCGA-ZG-A9N3-01A-22-..\n",
       "1449   PRAD_RPPAArray-20160128 TCGA-ZG-A9NI TCGA-ZG-A9NI-01A-21-.."
      ]
     },
     "metadata": {},
     "output_type": "display_data"
    }
   ],
   "source": [
    "mo <- mo[, , paste0(\"PRAD\", \"_\", assays, \"-20160128\")];\n",
    "sampleMap(mo)"
   ]
  },
  {
   "cell_type": "markdown",
   "id": "187b6d53",
   "metadata": {},
   "source": [
    "As we can see, we obtain a MultiAssayExperiment object, which, in its essence, is a data structure designed to store and coordinately analyze multi-omics experiments. In a way, it can be seen as an extension of the ExpressionSet class for more than one omic. The three main components of this data structure are:\n",
    "- colData: it contains a dataframe having for each sample the corresponding phenotipic characteristics (in our case mainly clinical data) - access colData()\n",
    "- ExperimentList: a list with the considered experiments (i.e. data modalities acquired with a specific technology). Element of the list are usually matrices or dataframes - access experiments()\n",
    "- sampleMap: it is a map that connects all the considered elements.- access sampleMap()\n",
    "\n",
    "Moreover, a function is provided to build MultiAssayExperiment objects for your own data and also subsetting operations for coordinated data selection among views."
   ]
  },
  {
   "cell_type": "markdown",
   "id": "f57c7476",
   "metadata": {},
   "source": [
    "Pre-process the dataset following the same steps we used during lessons. During the filtering by variance, select the first $100$ features having highest variance from each data source;\n",
    "To work with data coming from TCGA, it is important to understand the structure of the barcode associated to each sample. Each sample/patient is identified by a barcode with a specific structure: in pratice, the first 12 characters of the barcode identify a specific individual, while the other parts give us indications about the type of sample (i.e. primary, metastatic, solid, blood derived, etc), the type of genomic material extracted (i.e. DNA, RNA) and other information related to technical replicates (i.e. repeated measurements from the same sample)."
   ]
  },
  {
   "cell_type": "code",
   "execution_count": 5,
   "id": "0f8c8756",
   "metadata": {},
   "outputs": [
    {
     "name": "stderr",
     "output_type": "stream",
     "text": [
      "Warning message in .checkBarcodes(barcodes, check.sample = TRUE):\n",
      "“Inconsistent barcode lengths: 28, 27”\n",
      "Warning message in .checkBarcodes(barcodes):\n",
      "“Inconsistent barcode lengths: 28, 27”\n"
     ]
    },
    {
     "data": {
      "text/plain": [
       "LogicalList of length 3\n",
       "[[\"PRAD_miRNASeqGene-20160128\"]] 01=TRUE 01=TRUE 01=TRUE ... 01=TRUE 01=TRUE\n",
       "[[\"PRAD_RNASeq2Gene-20160128\"]] 01=TRUE 01=TRUE 01=TRUE ... 01=TRUE 01=TRUE\n",
       "[[\"PRAD_RPPAArray-20160128\"]] 01=TRUE 01=TRUE 01=TRUE ... 01=TRUE 01=TRUE"
      ]
     },
     "metadata": {},
     "output_type": "display_data"
    }
   ],
   "source": [
    "# Consider only primary solid tumors:\n",
    "primary <- TCGAutils::TCGAsampleSelect(colnames(mo), c(\"01\"));\n",
    "primary"
   ]
  },
  {
   "cell_type": "code",
   "execution_count": 6,
   "id": "1f91c908",
   "metadata": {},
   "outputs": [
    {
     "name": "stdout",
     "output_type": "stream",
     "text": [
      "CharacterList of length 1\n",
      "[[\"PRAD_miRNASeqGene-20160128\"]] TCGA-2A-A8VL-01A-21R-A37H-13 ...\n",
      "CharacterList of length 1\n",
      "[[\"PRAD_RNASeq2Gene-20160128\"]] TCGA-2A-A8VL-01A-21R-A37L-07 ...\n",
      "CharacterList of length 1\n",
      "[[\"PRAD_RPPAArray-20160128\"]] TCGA-2A-A8VL-01A-11-A43M-20 ...\n"
     ]
    }
   ],
   "source": [
    "# The execution of the precedent cell raises a warnin due to the fact\n",
    "# that the barcode associated with the RPPAArray is composed by 27\n",
    "# characters while the others are composed by 28 characters.\n",
    "print(colnames(mo)[1]);\n",
    "print(colnames(mo)[2]);\n",
    "print(colnames(mo)[3]);"
   ]
  },
  {
   "cell_type": "code",
   "execution_count": 7,
   "id": "513c74d7",
   "metadata": {},
   "outputs": [
    {
     "name": "stderr",
     "output_type": "stream",
     "text": [
      "harmonizing input:\n",
      "  removing 106 sampleMap rows with 'colname' not in colnames of experiments\n",
      "\n"
     ]
    }
   ],
   "source": [
    "mo <- mo[, primary, ];"
   ]
  },
  {
   "cell_type": "code",
   "execution_count": 8,
   "id": "a3c46596",
   "metadata": {},
   "outputs": [
    {
     "data": {
      "text/plain": [
       "DataFrame with 1343 rows and 3 columns\n",
       "                         assay      primary                colname\n",
       "                      <factor>  <character>            <character>\n",
       "1    PRAD_RNASeq2Gene-20160128 TCGA-2A-A8VL TCGA-2A-A8VL-01A-21R..\n",
       "2    PRAD_RNASeq2Gene-20160128 TCGA-2A-A8VO TCGA-2A-A8VO-01A-11R..\n",
       "3    PRAD_RNASeq2Gene-20160128 TCGA-2A-A8VT TCGA-2A-A8VT-01A-11R..\n",
       "4    PRAD_RNASeq2Gene-20160128 TCGA-2A-A8VV TCGA-2A-A8VV-01A-11R..\n",
       "5    PRAD_RNASeq2Gene-20160128 TCGA-2A-A8VX TCGA-2A-A8VX-01A-11R..\n",
       "...                        ...          ...                    ...\n",
       "1339   PRAD_RPPAArray-20160128 TCGA-ZG-A9LZ TCGA-ZG-A9LZ-01A-21-..\n",
       "1340   PRAD_RPPAArray-20160128 TCGA-ZG-A9M4 TCGA-ZG-A9M4-01A-21-..\n",
       "1341   PRAD_RPPAArray-20160128 TCGA-ZG-A9MC TCGA-ZG-A9MC-01A-21-..\n",
       "1342   PRAD_RPPAArray-20160128 TCGA-ZG-A9N3 TCGA-ZG-A9N3-01A-22-..\n",
       "1343   PRAD_RPPAArray-20160128 TCGA-ZG-A9NI TCGA-ZG-A9NI-01A-21-.."
      ]
     },
     "metadata": {},
     "output_type": "display_data"
    }
   ],
   "source": [
    "sampleMap(mo)"
   ]
  },
  {
   "cell_type": "code",
   "execution_count": 10,
   "id": "f2c20894",
   "metadata": {},
   "outputs": [
    {
     "name": "stdout",
     "output_type": "stream",
     "text": [
      " PRAD_RNASeq2Gene-20160128 PRAD_miRNASeqGene-20160128 \n",
      "                     FALSE                      FALSE \n",
      "   PRAD_RPPAArray-20160128 \n",
      "                     FALSE \n"
     ]
    }
   ],
   "source": [
    "# Check for replicates (anyReplicated checks the so called biological or \n",
    "# primary unit in the sampleMap of the MultiAssayExperiment object, that\n",
    "# corresponds to the first 12 characters of the barcodes for TCGA data):\n",
    "check_rep <- anyReplicated(mo);\n",
    "print(check_rep);"
   ]
  },
  {
   "cell_type": "markdown",
   "id": "979431df",
   "metadata": {},
   "source": [
    "Then, other additional pre-processing steps are performed:\n",
    "\n",
    "- Remove FFPE (formalin-fixed, paraffin-embedded) samples. Broadly speaking, after a biopsy is performed we need to store and preserve the sample. Two major tissue preparation methods are generally used: (1) FFPE, (2) freezing the sample (see this link to know more about the two methodologies). DNA and RNA molecules are preserved better if the tissue is frozen, thus we will remove samples preserved using FFPE technique;\n",
    "- Restrict samples to the ones having all the considered omics and extract the set of omics (one matrix for each omic) in a list;\n",
    "- Transpose each matrix to have samples in the rows and features in columns.\n"
   ]
  },
  {
   "cell_type": "code",
   "execution_count": 11,
   "id": "4377f528",
   "metadata": {},
   "outputs": [
    {
     "data": {
      "text/plain": [
       "DataFrame with 1343 rows and 3 columns\n",
       "                         assay      primary                colname\n",
       "                      <factor>  <character>            <character>\n",
       "1    PRAD_RNASeq2Gene-20160128 TCGA-2A-A8VL TCGA-2A-A8VL-01A-21R..\n",
       "2    PRAD_RNASeq2Gene-20160128 TCGA-2A-A8VO TCGA-2A-A8VO-01A-11R..\n",
       "3    PRAD_RNASeq2Gene-20160128 TCGA-2A-A8VT TCGA-2A-A8VT-01A-11R..\n",
       "4    PRAD_RNASeq2Gene-20160128 TCGA-2A-A8VV TCGA-2A-A8VV-01A-11R..\n",
       "5    PRAD_RNASeq2Gene-20160128 TCGA-2A-A8W1 TCGA-2A-A8W1-01A-11R..\n",
       "...                        ...          ...                    ...\n",
       "1339   PRAD_RPPAArray-20160128 TCGA-ZG-A9LB TCGA-ZG-A9LB-01A-21-..\n",
       "1340   PRAD_RPPAArray-20160128 TCGA-TP-A8TV TCGA-TP-A8TV-01A-21-..\n",
       "1341   PRAD_RPPAArray-20160128 TCGA-V1-A9OX TCGA-V1-A9OX-01A-21-..\n",
       "1342   PRAD_RPPAArray-20160128 TCGA-YL-A9WX TCGA-YL-A9WX-01A-11-..\n",
       "1343   PRAD_RPPAArray-20160128 TCGA-ZG-A9L9 TCGA-ZG-A9L9-01A-21-.."
      ]
     },
     "metadata": {},
     "output_type": "display_data"
    }
   ],
   "source": [
    "# The information regarding if the sample is FFPE is stored in the clinical data,\n",
    "# which are accessible using colData(). \n",
    "no_ffpe <- which(as.data.frame(colData(mo))$patient.samples.sample.is_ffpe == \"no\");\n",
    "mo <- mo[, no_ffpe, ];\n",
    "sampleMap(mo)"
   ]
  },
  {
   "cell_type": "code",
   "execution_count": 12,
   "id": "a59128ef",
   "metadata": {},
   "outputs": [],
   "source": [
    "# Obtain samples having all the considered omics:\n",
    "complete <- intersectColumns(mo);\n",
    "\n",
    "# Extract assays in list:\n",
    "complete <- assays(complete);\n",
    "\n",
    "# Obtain matrices samples x features:\n",
    "complete <- lapply(complete, FUN=t)"
   ]
  },
  {
   "cell_type": "markdown",
   "id": "b0f65001",
   "metadata": {},
   "source": [
    "Download the disease subtypes (column “Subtype\\_Integrative” is the one containing the iCluster molecular subtypes). Note that not all subtypes are available for the set of samples having all the considered omics data sources, thus you need to retain from the multi-omics dataset only samples having an associated subtype;"
   ]
  },
  {
   "cell_type": "markdown",
   "id": "1b2f00e0",
   "metadata": {},
   "source": [
    "Check that patients in multi-omics dataset and subtypes are in the same order;"
   ]
  },
  {
   "cell_type": "markdown",
   "id": "3d48f568",
   "metadata": {},
   "source": [
    "Integrate the data using Similarity Network Fusion [3] with the scaled exponential euclidean distance;"
   ]
  },
  {
   "cell_type": "markdown",
   "id": "ff77ec1d",
   "metadata": {},
   "source": [
    "Try to integrate the similarity matrices from each data source (computed by scaled exponential euclidean distance) using a simple average of the matrices. This can be considered as a trivial multi-omics data integration strategy;"
   ]
  },
  {
   "cell_type": "markdown",
   "id": "0638e98d",
   "metadata": {},
   "source": [
    "[GROUP] Integrate the dataset using another data fusion method called NEMO [4] to obtain an integrated similarity matrix. NEMO implementation is available on github ([https://github.com/Shamir-Lab/NEMO]).(https://github.com/Shamir-Lab/NEMO);"
   ]
  }
 ],
 "metadata": {
  "kernelspec": {
   "display_name": "R",
   "language": "R",
   "name": "ir"
  },
  "language_info": {
   "codemirror_mode": "r",
   "file_extension": ".r",
   "mimetype": "text/x-r-source",
   "name": "R",
   "pygments_lexer": "r",
   "version": "4.2.0"
  }
 },
 "nbformat": 4,
 "nbformat_minor": 5
}
