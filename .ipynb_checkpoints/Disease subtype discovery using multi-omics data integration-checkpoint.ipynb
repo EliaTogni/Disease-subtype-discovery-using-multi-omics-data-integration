{
 "cells": [
  {
   "cell_type": "markdown",
   "id": "e598a550",
   "metadata": {},
   "source": [
    "Download the **Prostate adenocarcinoma** dataset considering three different omics data sources (mRNA, miRNA and protein expression data). The _TCGA_ code for the dataset is “PRAD”;"
   ]
  },
  {
   "cell_type": "code",
   "execution_count": null,
   "id": "3c7f6ef9",
   "metadata": {},
   "outputs": [],
   "source": []
  },
  {
   "cell_type": "markdown",
   "id": "f57c7476",
   "metadata": {},
   "source": [
    "Pre-process the dataset following the same steps we used during lessons. During the filtering by variance, select the first $100$ features having highest variance from each data source;"
   ]
  },
  {
   "cell_type": "markdown",
   "id": "b0f65001",
   "metadata": {},
   "source": [
    "Download the disease subtypes (column “Subtype\\_Integrative” is the one containing the iCluster molecular subtypes). Note that not all subtypes are available for the set of samples having all the considered omics data sources, thus you need to retain from the multi-omics dataset only samples having an associated subtype;"
   ]
  },
  {
   "cell_type": "markdown",
   "id": "1b2f00e0",
   "metadata": {},
   "source": [
    "Check that patients in multi-omics dataset and subtypes are in the same order;"
   ]
  },
  {
   "cell_type": "markdown",
   "id": "3d48f568",
   "metadata": {},
   "source": [
    "Integrate the data using Similarity Network Fusion [3] with the scaled exponential euclidean distance;"
   ]
  },
  {
   "cell_type": "markdown",
   "id": "ff77ec1d",
   "metadata": {},
   "source": [
    "Try to integrate the similarity matrices from each data source (computed by scaled exponential euclidean distance) using a simple average of the matrices. This can be considered as a trivial multi-omics data integration strategy;"
   ]
  },
  {
   "cell_type": "markdown",
   "id": "0638e98d",
   "metadata": {},
   "source": [
    "[GROUP] Integrate the dataset using another data fusion method called NEMO [4] to obtain an integrated similarity matrix. NEMO implementation is available on github ([https://github.com/Shamir-Lab/NEMO]).(https://github.com/Shamir-Lab/NEMO);"
   ]
  }
 ],
 "metadata": {
  "kernelspec": {
   "display_name": "R",
   "language": "R",
   "name": "ir"
  },
  "language_info": {
   "codemirror_mode": "r",
   "file_extension": ".r",
   "mimetype": "text/x-r-source",
   "name": "R",
   "pygments_lexer": "r",
   "version": "4.2.0"
  }
 },
 "nbformat": 4,
 "nbformat_minor": 5
}
