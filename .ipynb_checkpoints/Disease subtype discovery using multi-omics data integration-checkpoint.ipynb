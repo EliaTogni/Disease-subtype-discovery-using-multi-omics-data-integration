{
 "cells": [
  {
   "cell_type": "code",
   "execution_count": null,
   "id": "e01856b2",
   "metadata": {},
   "outputs": [],
   "source": []
  },
  {
   "cell_type": "code",
   "execution_count": 1,
   "id": "f533dae0",
   "metadata": {},
   "outputs": [
    {
     "name": "stderr",
     "output_type": "stream",
     "text": [
      "Caricamento del pacchetto richiesto: MultiAssayExperiment\n",
      "\n",
      "Caricamento del pacchetto richiesto: SummarizedExperiment\n",
      "\n",
      "Caricamento del pacchetto richiesto: MatrixGenerics\n",
      "\n",
      "Caricamento del pacchetto richiesto: matrixStats\n",
      "\n",
      "\n",
      "Caricamento pacchetto: ‘MatrixGenerics’\n",
      "\n",
      "\n",
      "I seguenti oggetti sono mascherati da ‘package:matrixStats’:\n",
      "\n",
      "    colAlls, colAnyNAs, colAnys, colAvgsPerRowSet, colCollapse,\n",
      "    colCounts, colCummaxs, colCummins, colCumprods, colCumsums,\n",
      "    colDiffs, colIQRDiffs, colIQRs, colLogSumExps, colMadDiffs,\n",
      "    colMads, colMaxs, colMeans2, colMedians, colMins, colOrderStats,\n",
      "    colProds, colQuantiles, colRanges, colRanks, colSdDiffs, colSds,\n",
      "    colSums2, colTabulates, colVarDiffs, colVars, colWeightedMads,\n",
      "    colWeightedMeans, colWeightedMedians, colWeightedSds,\n",
      "    colWeightedVars, rowAlls, rowAnyNAs, rowAnys, rowAvgsPerColSet,\n",
      "    rowCollapse, rowCounts, rowCummaxs, rowCummins, rowCumprods,\n",
      "    rowCumsums, rowDiffs, rowIQRDiffs, rowIQRs, rowLogSumExps,\n",
      "    rowMadDiffs, rowMads, rowMaxs, rowMeans2, rowMedians, rowMins,\n",
      "    rowOrderStats, rowProds, rowQuantiles, rowRanges, rowRanks,\n",
      "    rowSdDiffs, rowSds, rowSums2, rowTabulates, rowVarDiffs, rowVars,\n",
      "    rowWeightedMads, rowWeightedMeans, rowWeightedMedians,\n",
      "    rowWeightedSds, rowWeightedVars\n",
      "\n",
      "\n",
      "Caricamento del pacchetto richiesto: GenomicRanges\n",
      "\n",
      "Caricamento del pacchetto richiesto: stats4\n",
      "\n",
      "Caricamento del pacchetto richiesto: BiocGenerics\n",
      "\n",
      "\n",
      "Caricamento pacchetto: ‘BiocGenerics’\n",
      "\n",
      "\n",
      "I seguenti oggetti sono mascherati da ‘package:stats’:\n",
      "\n",
      "    IQR, mad, sd, var, xtabs\n",
      "\n",
      "\n",
      "I seguenti oggetti sono mascherati da ‘package:base’:\n",
      "\n",
      "    anyDuplicated, aperm, append, as.data.frame, basename, cbind,\n",
      "    colnames, dirname, do.call, duplicated, eval, evalq, Filter, Find,\n",
      "    get, grep, grepl, intersect, is.unsorted, lapply, Map, mapply,\n",
      "    match, mget, order, paste, pmax, pmax.int, pmin, pmin.int,\n",
      "    Position, rank, rbind, Reduce, rownames, sapply, setdiff, sort,\n",
      "    table, tapply, union, unique, unsplit, which.max, which.min\n",
      "\n",
      "\n",
      "Caricamento del pacchetto richiesto: S4Vectors\n",
      "\n",
      "\n",
      "Caricamento pacchetto: ‘S4Vectors’\n",
      "\n",
      "\n",
      "I seguenti oggetti sono mascherati da ‘package:base’:\n",
      "\n",
      "    expand.grid, I, unname\n",
      "\n",
      "\n",
      "Caricamento del pacchetto richiesto: IRanges\n",
      "\n",
      "Caricamento del pacchetto richiesto: GenomeInfoDb\n",
      "\n",
      "Caricamento del pacchetto richiesto: Biobase\n",
      "\n",
      "Welcome to Bioconductor\n",
      "\n",
      "    Vignettes contain introductory material; view with\n",
      "    'browseVignettes()'. To cite Bioconductor, see\n",
      "    'citation(\"Biobase\")', and for packages 'citation(\"pkgname\")'.\n",
      "\n",
      "\n",
      "\n",
      "Caricamento pacchetto: ‘Biobase’\n",
      "\n",
      "\n",
      "Il seguente oggetto è mascherato da ‘package:MatrixGenerics’:\n",
      "\n",
      "    rowMedians\n",
      "\n",
      "\n",
      "I seguenti oggetti sono mascherati da ‘package:matrixStats’:\n",
      "\n",
      "    anyMissing, rowMedians\n",
      "\n",
      "\n",
      "\n",
      "Caricamento pacchetto: ‘TCGAutils’\n",
      "\n",
      "\n",
      "Il seguente oggetto è mascherato da ‘package:MultiAssayExperiment’:\n",
      "\n",
      "    splitAssays\n",
      "\n",
      "\n",
      "Caricamento del pacchetto richiesto: ggplot2\n",
      "\n",
      "Caricamento del pacchetto richiesto: lattice\n",
      "\n"
     ]
    }
   ],
   "source": [
    "library(\"curatedTCGAData\");\n",
    "library(\"TCGAbiolinks\");\n",
    "library(\"TCGAutils\");\n",
    "library(\"SNFtool\");\n",
    "library(\"caret\");\n",
    "library(\"cluster\"); #pam\n",
    "library(\"mclustcomp\");"
   ]
  },
  {
   "cell_type": "markdown",
   "id": "e598a550",
   "metadata": {},
   "source": [
    "Download the **Prostate adenocarcinoma** dataset considering three different omics data sources (mRNA, miRNA and protein expression data). The _TCGA_ code for the dataset is “PRAD”;"
   ]
  },
  {
   "cell_type": "code",
   "execution_count": 2,
   "id": "3c7f6ef9",
   "metadata": {},
   "outputs": [
    {
     "name": "stderr",
     "output_type": "stream",
     "text": [
      "snapshotDate(): 2022-10-31\n",
      "\n",
      "Working on: PRAD_miRNASeqGene-20160128\n",
      "\n",
      "see ?curatedTCGAData and browseVignettes('curatedTCGAData') for documentation\n",
      "\n",
      "loading from cache\n",
      "\n",
      "Working on: PRAD_RNASeq2Gene-20160128\n",
      "\n",
      "see ?curatedTCGAData and browseVignettes('curatedTCGAData') for documentation\n",
      "\n",
      "loading from cache\n",
      "\n",
      "Working on: PRAD_RPPAArray-20160128\n",
      "\n",
      "see ?curatedTCGAData and browseVignettes('curatedTCGAData') for documentation\n",
      "\n",
      "loading from cache\n",
      "\n",
      "Working on: PRAD_colData-20160128\n",
      "\n",
      "see ?curatedTCGAData and browseVignettes('curatedTCGAData') for documentation\n",
      "\n",
      "loading from cache\n",
      "\n",
      "Working on: PRAD_metadata-20160128\n",
      "\n",
      "see ?curatedTCGAData and browseVignettes('curatedTCGAData') for documentation\n",
      "\n",
      "loading from cache\n",
      "\n",
      "Working on: PRAD_sampleMap-20160128\n",
      "\n",
      "see ?curatedTCGAData and browseVignettes('curatedTCGAData') for documentation\n",
      "\n",
      "loading from cache\n",
      "\n",
      "harmonizing input:\n",
      "  removing 5189 sampleMap rows not in names(experiments)\n",
      "\n"
     ]
    },
    {
     "data": {
      "text/plain": [
       "A MultiAssayExperiment object of 3 listed\n",
       " experiments with user-defined names and respective classes.\n",
       " Containing an ExperimentList class object of length 3:\n",
       " [1] PRAD_miRNASeqGene-20160128: SummarizedExperiment with 1046 rows and 547 columns\n",
       " [2] PRAD_RNASeq2Gene-20160128: SummarizedExperiment with 20501 rows and 550 columns\n",
       " [3] PRAD_RPPAArray-20160128: SummarizedExperiment with 195 rows and 352 columns\n",
       "Functionality:\n",
       " experiments() - obtain the ExperimentList instance\n",
       " colData() - the primary/phenotype DataFrame\n",
       " sampleMap() - the sample coordination DataFrame\n",
       " `$`, `[`, `[[` - extract colData columns, subset, or experiment\n",
       " *Format() - convert into a long or wide DataFrame\n",
       " assays() - convert ExperimentList to a SimpleList of matrices\n",
       " exportClass() - save data to flat files"
      ]
     },
     "metadata": {},
     "output_type": "display_data"
    }
   ],
   "source": [
    "# Download breast cancer multi-omics dataset\n",
    "# Note that RPPA stands for Reverse-phase protein array and it is \n",
    "# the technology used to obtain proteomic data.\n",
    "# Use ?curatedTCGAData to access the help page of the function and see\n",
    "# the table with all the available data types (not all types are available for\n",
    "# each cancer).\n",
    "assays <- c(\"miRNASeqGene\", \"RNASeq2Gene\", \"RPPAArray\");\n",
    "mo <- curatedTCGAData(diseaseCode = \"PRAD\", \n",
    "                        assays = assays, \n",
    "                        version = \"2.0.1\", dry.run = FALSE);"
   ]
  },
  {
   "cell_type": "code",
   "execution_count": 6,
   "id": "04f5bfe3",
   "metadata": {},
   "outputs": [
    {
     "data": {
      "text/plain": [
       "A MultiAssayExperiment object of 3 listed\n",
       " experiments with user-defined names and respective classes.\n",
       " Containing an ExperimentList class object of length 3:\n",
       " [1] PRAD_miRNASeqGene-20160128: SummarizedExperiment with 1046 rows and 547 columns\n",
       " [2] PRAD_RNASeq2Gene-20160128: SummarizedExperiment with 20501 rows and 550 columns\n",
       " [3] PRAD_RPPAArray-20160128: SummarizedExperiment with 195 rows and 352 columns\n",
       "Functionality:\n",
       " experiments() - obtain the ExperimentList instance\n",
       " colData() - the primary/phenotype DataFrame\n",
       " sampleMap() - the sample coordination DataFrame\n",
       " `$`, `[`, `[[` - extract colData columns, subset, or experiment\n",
       " *Format() - convert into a long or wide DataFrame\n",
       " assays() - convert ExperimentList to a SimpleList of matrices\n",
       " exportClass() - save data to flat files"
      ]
     },
     "metadata": {},
     "output_type": "display_data"
    }
   ],
   "source": [
    "mo <- mo[, , paste0(\"PRAD\", \"_\", assays, \"-20160128\")];\n",
    "mo"
   ]
  },
  {
   "cell_type": "code",
   "execution_count": null,
   "id": "6a3ead51",
   "metadata": {},
   "outputs": [],
   "source": []
  },
  {
   "cell_type": "markdown",
   "id": "f57c7476",
   "metadata": {},
   "source": [
    "Pre-process the dataset following the same steps we used during lessons. During the filtering by variance, select the first $100$ features having highest variance from each data source;"
   ]
  },
  {
   "cell_type": "markdown",
   "id": "b0f65001",
   "metadata": {},
   "source": [
    "Download the disease subtypes (column “Subtype\\_Integrative” is the one containing the iCluster molecular subtypes). Note that not all subtypes are available for the set of samples having all the considered omics data sources, thus you need to retain from the multi-omics dataset only samples having an associated subtype;"
   ]
  },
  {
   "cell_type": "markdown",
   "id": "1b2f00e0",
   "metadata": {},
   "source": [
    "Check that patients in multi-omics dataset and subtypes are in the same order;"
   ]
  },
  {
   "cell_type": "markdown",
   "id": "3d48f568",
   "metadata": {},
   "source": [
    "Integrate the data using Similarity Network Fusion [3] with the scaled exponential euclidean distance;"
   ]
  },
  {
   "cell_type": "markdown",
   "id": "ff77ec1d",
   "metadata": {},
   "source": [
    "Try to integrate the similarity matrices from each data source (computed by scaled exponential euclidean distance) using a simple average of the matrices. This can be considered as a trivial multi-omics data integration strategy;"
   ]
  },
  {
   "cell_type": "markdown",
   "id": "0638e98d",
   "metadata": {},
   "source": [
    "[GROUP] Integrate the dataset using another data fusion method called NEMO [4] to obtain an integrated similarity matrix. NEMO implementation is available on github ([https://github.com/Shamir-Lab/NEMO]).(https://github.com/Shamir-Lab/NEMO);"
   ]
  }
 ],
 "metadata": {
  "kernelspec": {
   "display_name": "R",
   "language": "R",
   "name": "ir"
  },
  "language_info": {
   "codemirror_mode": "r",
   "file_extension": ".r",
   "mimetype": "text/x-r-source",
   "name": "R",
   "pygments_lexer": "r",
   "version": "4.2.0"
  }
 },
 "nbformat": 4,
 "nbformat_minor": 5
}
